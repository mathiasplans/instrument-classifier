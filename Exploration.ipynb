{
 "cells": [
  {
   "cell_type": "code",
   "execution_count": 1,
   "metadata": {},
   "outputs": [
    {
     "data": {
      "text/html": [
       "<div>\n",
       "<style scoped>\n",
       "    .dataframe tbody tr th:only-of-type {\n",
       "        vertical-align: middle;\n",
       "    }\n",
       "\n",
       "    .dataframe tbody tr th {\n",
       "        vertical-align: top;\n",
       "    }\n",
       "\n",
       "    .dataframe thead th {\n",
       "        text-align: right;\n",
       "    }\n",
       "</style>\n",
       "<table border=\"1\" class=\"dataframe\">\n",
       "  <thead>\n",
       "    <tr style=\"text-align: right;\">\n",
       "      <th></th>\n",
       "      <th>predominant</th>\n",
       "      <th>genre</th>\n",
       "      <th>drum</th>\n",
       "      <th>file</th>\n",
       "    </tr>\n",
       "  </thead>\n",
       "  <tbody>\n",
       "    <tr>\n",
       "      <th>0</th>\n",
       "      <td>cel</td>\n",
       "      <td>cla</td>\n",
       "      <td>nod</td>\n",
       "      <td>IRMAS-TrainingData/cel/008__[cel][nod][cla]005...</td>\n",
       "    </tr>\n",
       "    <tr>\n",
       "      <th>1</th>\n",
       "      <td>cel</td>\n",
       "      <td>cla</td>\n",
       "      <td>nod</td>\n",
       "      <td>IRMAS-TrainingData/cel/008__[cel][nod][cla]005...</td>\n",
       "    </tr>\n",
       "    <tr>\n",
       "      <th>2</th>\n",
       "      <td>cel</td>\n",
       "      <td>cla</td>\n",
       "      <td>nod</td>\n",
       "      <td>IRMAS-TrainingData/cel/008__[cel][nod][cla]005...</td>\n",
       "    </tr>\n",
       "    <tr>\n",
       "      <th>3</th>\n",
       "      <td>cel</td>\n",
       "      <td>cla</td>\n",
       "      <td>nod</td>\n",
       "      <td>IRMAS-TrainingData/cel/012__[cel][nod][cla]004...</td>\n",
       "    </tr>\n",
       "    <tr>\n",
       "      <th>4</th>\n",
       "      <td>cel</td>\n",
       "      <td>cla</td>\n",
       "      <td>nod</td>\n",
       "      <td>IRMAS-TrainingData/cel/012__[cel][nod][cla]004...</td>\n",
       "    </tr>\n",
       "    <tr>\n",
       "      <th>...</th>\n",
       "      <td>...</td>\n",
       "      <td>...</td>\n",
       "      <td>...</td>\n",
       "      <td>...</td>\n",
       "    </tr>\n",
       "    <tr>\n",
       "      <th>6700</th>\n",
       "      <td>voi</td>\n",
       "      <td>pop_roc</td>\n",
       "      <td>None</td>\n",
       "      <td>IRMAS-TrainingData/voi/[voi][pop_roc]2547__2.wav</td>\n",
       "    </tr>\n",
       "    <tr>\n",
       "      <th>6701</th>\n",
       "      <td>voi</td>\n",
       "      <td>pop_roc</td>\n",
       "      <td>None</td>\n",
       "      <td>IRMAS-TrainingData/voi/[voi][pop_roc]2547__3.wav</td>\n",
       "    </tr>\n",
       "    <tr>\n",
       "      <th>6702</th>\n",
       "      <td>voi</td>\n",
       "      <td>pop_roc</td>\n",
       "      <td>None</td>\n",
       "      <td>IRMAS-TrainingData/voi/[voi][pop_roc]2548__1.wav</td>\n",
       "    </tr>\n",
       "    <tr>\n",
       "      <th>6703</th>\n",
       "      <td>voi</td>\n",
       "      <td>pop_roc</td>\n",
       "      <td>None</td>\n",
       "      <td>IRMAS-TrainingData/voi/[voi][pop_roc]2548__2.wav</td>\n",
       "    </tr>\n",
       "    <tr>\n",
       "      <th>6704</th>\n",
       "      <td>voi</td>\n",
       "      <td>pop_roc</td>\n",
       "      <td>None</td>\n",
       "      <td>IRMAS-TrainingData/voi/[voi][pop_roc]2548__3.wav</td>\n",
       "    </tr>\n",
       "  </tbody>\n",
       "</table>\n",
       "<p>6705 rows × 4 columns</p>\n",
       "</div>"
      ],
      "text/plain": [
       "     predominant    genre  drum  \\\n",
       "0            cel      cla   nod   \n",
       "1            cel      cla   nod   \n",
       "2            cel      cla   nod   \n",
       "3            cel      cla   nod   \n",
       "4            cel      cla   nod   \n",
       "...          ...      ...   ...   \n",
       "6700         voi  pop_roc  None   \n",
       "6701         voi  pop_roc  None   \n",
       "6702         voi  pop_roc  None   \n",
       "6703         voi  pop_roc  None   \n",
       "6704         voi  pop_roc  None   \n",
       "\n",
       "                                                   file  \n",
       "0     IRMAS-TrainingData/cel/008__[cel][nod][cla]005...  \n",
       "1     IRMAS-TrainingData/cel/008__[cel][nod][cla]005...  \n",
       "2     IRMAS-TrainingData/cel/008__[cel][nod][cla]005...  \n",
       "3     IRMAS-TrainingData/cel/012__[cel][nod][cla]004...  \n",
       "4     IRMAS-TrainingData/cel/012__[cel][nod][cla]004...  \n",
       "...                                                 ...  \n",
       "6700   IRMAS-TrainingData/voi/[voi][pop_roc]2547__2.wav  \n",
       "6701   IRMAS-TrainingData/voi/[voi][pop_roc]2547__3.wav  \n",
       "6702   IRMAS-TrainingData/voi/[voi][pop_roc]2548__1.wav  \n",
       "6703   IRMAS-TrainingData/voi/[voi][pop_roc]2548__2.wav  \n",
       "6704   IRMAS-TrainingData/voi/[voi][pop_roc]2548__3.wav  \n",
       "\n",
       "[6705 rows x 4 columns]"
      ]
     },
     "execution_count": 1,
     "metadata": {},
     "output_type": "execute_result"
    }
   ],
   "source": [
    "import os\n",
    "import re\n",
    "import numpy as np\n",
    "import pandas as pd\n",
    "\n",
    "df = pd.DataFrame(columns=['predominant', 'genre', 'drum'])\n",
    "\n",
    "path = 'IRMAS-TrainingData'\n",
    "\n",
    "dirs = os.scandir(path)\n",
    "for dir in dirs:\n",
    "    if os.path.isfile(dir.path):\n",
    "        continue\n",
    "    \n",
    "    pieces = os.scandir(dir.path)\n",
    "    \n",
    "    for p in pieces:\n",
    "        fp = p.path\n",
    "        name = p.name\n",
    "        name = name.replace('.wav', '')\n",
    "        \n",
    "        m = re.search(r'(\\[([a-zA-Z_]+)\\])+', name)\n",
    "        \n",
    "        labels = m.group()[1:-1].split('][')\n",
    "        \n",
    "        predominant = labels[0]\n",
    "        genre = labels[-1]\n",
    "\n",
    "        drum = None\n",
    "        \n",
    "        if len(labels) > 2:\n",
    "            drum = labels[1]\n",
    "            \n",
    "        df = df.append({'file':fp, 'predominant':predominant, 'genre':genre, 'drum':drum}, ignore_index=True)\n",
    "\n",
    "df"
   ]
  },
  {
   "cell_type": "code",
   "execution_count": 49,
   "metadata": {},
   "outputs": [
    {
     "data": {
      "text/plain": [
       "<AxesSubplot:>"
      ]
     },
     "execution_count": 49,
     "metadata": {},
     "output_type": "execute_result"
    },
    {
     "data": {
      "image/png": "[encoded data removed]",
      "text/plain": [
       "<Figure size 432x288 with 1 Axes>"
      ]
     },
     "metadata": {},
     "output_type": "display_data"
    }
   ],
   "source": [
    "df.predominant.value_counts().plot.bar()"
   ]
  },
  {
   "cell_type": "code",
   "execution_count": 50,
   "metadata": {},
   "outputs": [
    {
     "data": {
      "text/plain": [
       "<AxesSubplot:>"
      ]
     },
     "execution_count": 50,
     "metadata": {},
     "output_type": "execute_result"
    },
    {
     "data": {
      "image/png": "[encoded data removed]",
      "text/plain": [
       "<Figure size 432x288 with 1 Axes>"
      ]
     },
     "metadata": {},
     "output_type": "display_data"
    }
   ],
   "source": [
    "df.genre.value_counts().plot.bar()"
   ]
  },
  {
   "cell_type": "code",
   "execution_count": 53,
   "metadata": {},
   "outputs": [
    {
     "data": {
      "text/plain": [
       "<AxesSubplot:>"
      ]
     },
     "execution_count": 53,
     "metadata": {},
     "output_type": "execute_result"
    },
    {
     "data": {
      "image/png": "[encoded data removed]",
      "text/plain": [
       "<Figure size 432x288 with 1 Axes>"
      ]
     },
     "metadata": {},
     "output_type": "display_data"
    }
   ],
   "source": [
    "df[df.genre=='cla'].predominant.value_counts().plot.bar()"
   ]
  },
  {
   "cell_type": "code",
   "execution_count": 54,
   "metadata": {},
   "outputs": [
    {
     "data": {
      "text/plain": [
       "pop_roc    2470\n",
       "jaz_blu    2027\n",
       "cla        1675\n",
       "cou_fol     479\n",
       "lat_sou      42\n",
       "gel           6\n",
       "voi           3\n",
       "tru           3\n",
       "Name: genre, dtype: int64"
      ]
     },
     "execution_count": 54,
     "metadata": {},
     "output_type": "execute_result"
    }
   ],
   "source": [
    "df.genre.value_counts()"
   ]
  },
  {
   "cell_type": "code",
   "execution_count": 636,
   "metadata": {},
   "outputs": [
    {
     "name": "stderr",
     "output_type": "stream",
     "text": [
      "/home/mathiasplans/.local/lib/python3.6/site-packages/tensorflow/python/data/ops/dataset_ops.py:3350: UserWarning: Even though the tf.config.experimental_run_functions_eagerly option is set, this option does not apply to tf.data functions. tf.data functions are still traced and executed as graphs.\n",
      "  \"Even though the tf.config.experimental_run_functions_eagerly \"\n"
     ]
    },
    {
     "name": "stdout",
     "output_type": "stream",
     "text": [
      "Epoch 1/17\n",
      "11/11 [==============================] - 2s 163ms/step - loss: 1.3141 - acc: 0.9730 - val_loss: 1.9003 - val_acc: 0.3623\n",
      "Epoch 2/17\n",
      "11/11 [==============================] - 2s 176ms/step - loss: 1.2940 - acc: 0.9858 - val_loss: 1.9268 - val_acc: 0.3293\n",
      "Epoch 3/17\n",
      "11/11 [==============================] - 2s 149ms/step - loss: 1.2927 - acc: 0.9858 - val_loss: 1.8777 - val_acc: 0.3952\n",
      "Epoch 4/17\n",
      "11/11 [==============================] - 2s 153ms/step - loss: 1.2954 - acc: 0.9858 - val_loss: 1.9554 - val_acc: 0.3114\n",
      "Epoch 5/17\n",
      "11/11 [==============================] - 2s 169ms/step - loss: 1.2902 - acc: 0.9873 - val_loss: 1.8758 - val_acc: 0.3892\n",
      "Epoch 6/17\n",
      "11/11 [==============================] - 3s 228ms/step - loss: 1.2886 - acc: 0.9880 - val_loss: 1.9050 - val_acc: 0.3533\n",
      "Epoch 7/17\n",
      "11/11 [==============================] - 2s 155ms/step - loss: 1.2883 - acc: 0.9880 - val_loss: 1.8981 - val_acc: 0.3563\n",
      "Epoch 8/17\n",
      "11/11 [==============================] - 2s 157ms/step - loss: 1.2883 - acc: 0.9880 - val_loss: 1.8764 - val_acc: 0.3832\n",
      "Epoch 9/17\n",
      "11/11 [==============================] - 2s 177ms/step - loss: 1.2894 - acc: 0.9880 - val_loss: 1.9002 - val_acc: 0.3653\n",
      "Epoch 10/17\n",
      "11/11 [==============================] - 2s 162ms/step - loss: 1.2921 - acc: 0.9843 - val_loss: 1.8797 - val_acc: 0.3772\n",
      "Epoch 11/17\n",
      "11/11 [==============================] - 2s 163ms/step - loss: 1.2974 - acc: 0.9805 - val_loss: 1.9175 - val_acc: 0.3563\n",
      "Epoch 12/17\n",
      "11/11 [==============================] - 2s 164ms/step - loss: 1.2911 - acc: 0.9858 - val_loss: 1.8685 - val_acc: 0.3892\n",
      "Epoch 13/17\n",
      "11/11 [==============================] - 2s 159ms/step - loss: 1.2888 - acc: 0.9873 - val_loss: 1.8518 - val_acc: 0.4162\n",
      "Epoch 14/17\n",
      "11/11 [==============================] - 2s 167ms/step - loss: 1.2867 - acc: 0.9880 - val_loss: 1.8671 - val_acc: 0.4072\n",
      "Epoch 15/17\n",
      "11/11 [==============================] - 2s 181ms/step - loss: 1.2866 - acc: 0.9880 - val_loss: 1.8635 - val_acc: 0.3982\n",
      "Epoch 16/17\n",
      "11/11 [==============================] - 2s 175ms/step - loss: 1.2866 - acc: 0.9880 - val_loss: 1.8558 - val_acc: 0.3952\n",
      "Epoch 17/17\n",
      "11/11 [==============================] - 2s 196ms/step - loss: 1.3005 - acc: 0.9753 - val_loss: 1.8735 - val_acc: 0.3982\n"
     ]
    },
    {
     "data": {
      "text/plain": [
       "<tensorflow.python.keras.callbacks.History at 0x7fd15a11cf98>"
      ]
     },
     "execution_count": 636,
     "metadata": {},
     "output_type": "execute_result"
    }
   ],
   "source": [
    "model.fit(\n",
    "    x=train_X_list, \n",
    "    y=train_y_list, \n",
    "    batch_size=128, epochs=17, validation_data=(test_X_list, test_y_list))"
   ]
  },
  {
   "cell_type": "code",
   "execution_count": 644,
   "metadata": {},
   "outputs": [
    {
     "name": "stderr",
     "output_type": "stream",
     "text": [
      "/home/mathiasplans/.local/lib/python3.6/site-packages/tensorflow/python/data/ops/dataset_ops.py:3350: UserWarning: Even though the tf.config.experimental_run_functions_eagerly option is set, this option does not apply to tf.data functions. tf.data functions are still traced and executed as graphs.\n",
      "  \"Even though the tf.config.experimental_run_functions_eagerly \"\n"
     ]
    }
   ],
   "source": [
    "from sklearn.metrics import classification_report, confusion_matrix\n",
    "y_pred = np.argmax(model.predict(test_X_list), axis=1)\n",
    "y_actual = np.argmax(test_y_list, axis=1)\n",
    "cm = confusion_matrix(y_actual, y_pred)"
   ]
  },
  {
   "cell_type": "code",
   "execution_count": 654,
   "metadata": {},
   "outputs": [
    {
     "data": {
      "text/plain": [
       "<AxesSubplot:>"
      ]
     },
     "execution_count": 654,
     "metadata": {},
     "output_type": "execute_result"
    },
    {
     "data": {
      "image/png": "[encoded data removed]",
      "text/plain": [
       "<Figure size 792x648 with 2 Axes>"
      ]
     },
     "metadata": {},
     "output_type": "display_data"
    }
   ],
   "source": [
    "import seaborn as sn\n",
    "import matplotlib.pyplot as plt\n",
    "\n",
    "df_cm = pd.DataFrame(cm, index = [i for i in ['cel', 'cla', 'flu', 'gac', 'pia', 'sax', 'tru', 'vio']],\n",
    "                  columns = [i for i in ['cel', 'cla', 'flu', 'gac', 'pia', 'sax', 'tru', 'vio']])\n",
    "plt.figure(figsize = (11,9))\n",
    "sn.heatmap(df_cm, annot=True)"
   ]
  },
  {
   "cell_type": "code",
   "execution_count": null,
   "metadata": {},
   "outputs": [],
   "source": []
  }
 ],
 "metadata": {
  "kernelspec": {
   "display_name": "Python 3",
   "language": "python",
   "name": "python3"
  },
  "language_info": {
   "codemirror_mode": {
    "name": "ipython",
    "version": 3
   },
   "file_extension": ".py",
   "mimetype": "text/x-python",
   "name": "python",
   "nbconvert_exporter": "python",
   "pygments_lexer": "ipython3",
   "version": "3.6.9"
  }
 },
 "nbformat": 4,
 "nbformat_minor": 2
}
