{
 "cells": [
  {
   "cell_type": "markdown",
   "metadata": {},
   "source": [
    "# Simple models\n",
    "We use K-NN, random forest and linear classifier"
   ]
  },
  {
   "cell_type": "code",
   "execution_count": null,
   "metadata": {},
   "outputs": [],
   "source": [
    "import pandas as pd\n",
    "from sklearn.neighbors import KNeighborsClassifier\n",
    "from sklearn.model_selection import train_test_split\n",
    "from sklearn.metrics import accuracy_score\n",
    "from sklearn.ensemble import RandomForestClassifier\n",
    "from sklearn.linear_model import RidgeClassifier"
   ]
  },
  {
   "cell_type": "code",
   "execution_count": null,
   "metadata": {},
   "outputs": [],
   "source": [
    "data=pd.read_csv('data.csv')\n",
    "data = data[data.instrument!='gel']\n",
    "\n",
    "data.loc[data['instrument'] =='cel', 'instrument'] = 0\n",
    "data.loc[data['instrument'] =='cla', 'instrument'] = 1\n",
    "data.loc[data['instrument'] =='flu', 'instrument'] = 2\n",
    "data.loc[data['instrument'] =='gac', 'instrument'] = 3\n",
    "data.loc[data['instrument'] =='pia', 'instrument'] = 4\n",
    "data.loc[data['instrument'] =='sax', 'instrument'] = 5\n",
    "data.loc[data['instrument'] =='tru', 'instrument'] = 6\n",
    "data.loc[data['instrument'] =='vio', 'instrument'] = 7\n",
    "data['instrument']=data['instrument'].astype('int')\n",
    "\n",
    "# Remove index\n",
    "data = data.drop('Unnamed: 0', axis=1)"
   ]
  },
  {
   "cell_type": "code",
   "execution_count": null,
   "metadata": {},
   "outputs": [],
   "source": [
    "results_df = pd.DataFrame(columns=['model', 'accuracy'])"
   ]
  },
  {
   "cell_type": "markdown",
   "metadata": {},
   "source": [
    "# K-NN\n",
    "Let's use K-NN classifier on our data"
   ]
  },
  {
   "cell_type": "markdown",
   "metadata": {},
   "source": [
    "Note that only 3 features were useful for classification: spectral centroid, timbral depth, and MFC0."
   ]
  },
  {
   "cell_type": "code",
   "execution_count": null,
   "metadata": {},
   "outputs": [],
   "source": [
    "# Select columns\n",
    "knn_data = data[['instrument' ,'SCentroid', 'depth', 'MFC0']]"
   ]
  },
  {
   "cell_type": "code",
   "execution_count": null,
   "metadata": {},
   "outputs": [],
   "source": [
    "X = pd.DataFrame(data=knn_data)\n",
    "X.drop('instrument', axis='columns', inplace=True)\n",
    "y=pd.DataFrame()\n",
    "y['instrument'] = knn_data['instrument']"
   ]
  },
  {
   "cell_type": "code",
   "execution_count": null,
   "metadata": {},
   "outputs": [],
   "source": [
    "X_train, X_test, y_train, y_test = train_test_split(X, y, random_state=0, test_size=0.1)"
   ]
  },
  {
   "cell_type": "code",
   "execution_count": null,
   "metadata": {},
   "outputs": [],
   "source": [
    "model = KNeighborsClassifier(n_neighbors = 20).fit(X_train, y_train)\n",
    "\n",
    "acc = accuracy_score(y_test, model.predict(X_test))\n",
    "results_df = results_df.append({'model': model , 'accuracy': acc }, ignore_index=True)\n",
    "results_df"
   ]
  },
  {
   "cell_type": "markdown",
   "metadata": {},
   "source": [
    "# Random Forest\n",
    "Let's use random forest classifier on our data"
   ]
  },
  {
   "cell_type": "code",
   "execution_count": null,
   "metadata": {},
   "outputs": [],
   "source": [
    "X = pd.DataFrame(data=data)\n",
    "X.drop('instrument', axis='columns', inplace=True)\n",
    "y=pd.DataFrame()\n",
    "y['instrument'] = data['instrument']"
   ]
  },
  {
   "cell_type": "code",
   "execution_count": null,
   "metadata": {},
   "outputs": [],
   "source": [
    "X_train, X_test, y_train, y_test = train_test_split(X, y, random_state=0, test_size=0.1)"
   ]
  },
  {
   "cell_type": "code",
   "execution_count": null,
   "metadata": {},
   "outputs": [],
   "source": [
    "model = RandomForestClassifier(n_estimators=5000, max_depth=15,random_state=1).fit(X_train, y_train)\n",
    "\n",
    "acc = accuracy_score(y_test, model.predict(X_test))\n",
    "results_df = results_df.append({'model': model , 'accuracy': acc }, ignore_index=True)\n",
    "results_df"
   ]
  },
  {
   "cell_type": "markdown",
   "metadata": {},
   "source": [
    "# Linear Classifier\n",
    "Let's use linear classifier on our data"
   ]
  },
  {
   "cell_type": "code",
   "execution_count": null,
   "metadata": {},
   "outputs": [],
   "source": [
    "X = pd.DataFrame(data=data)\n",
    "X.drop('instrument', axis='columns', inplace=True)\n",
    "y=pd.DataFrame()\n",
    "y['instrument'] = data['instrument']"
   ]
  },
  {
   "cell_type": "code",
   "execution_count": null,
   "metadata": {},
   "outputs": [],
   "source": [
    "X_train, X_test, y_train, y_test = train_test_split(X, y, random_state=0, test_size=0.1)"
   ]
  },
  {
   "cell_type": "code",
   "execution_count": null,
   "metadata": {},
   "outputs": [],
   "source": [
    "model = RidgeClassifier().fit(X_train,y_train)\n",
    "\n",
    "acc = accuracy_score(y_test, model.predict(X_test))\n",
    "results_df = results_df.append({'model': model , 'accuracy': acc }, ignore_index=True)\n",
    "results_df"
   ]
  }
 ],
 "metadata": {
  "kernelspec": {
   "display_name": "Python 3",
   "language": "python",
   "name": "python3"
  },
  "language_info": {
   "codemirror_mode": {
    "name": "ipython",
    "version": 3
   },
   "file_extension": ".py",
   "mimetype": "text/x-python",
   "name": "python",
   "nbconvert_exporter": "python",
   "pygments_lexer": "ipython3",
   "version": "3.6.9"
  }
 },
 "nbformat": 4,
 "nbformat_minor": 2
}
